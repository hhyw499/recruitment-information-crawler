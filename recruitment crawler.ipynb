{
 "cells": [
  {
   "cell_type": "code",
   "execution_count": 1,
   "id": "ff166a71",
   "metadata": {},
   "outputs": [],
   "source": [
    "import requests"
   ]
  },
  {
   "cell_type": "code",
   "execution_count": 2,
   "id": "d87930ec",
   "metadata": {},
   "outputs": [],
   "source": [
    "from lxml import etree"
   ]
  },
  {
   "cell_type": "code",
   "execution_count": 3,
   "id": "12eb9cab",
   "metadata": {},
   "outputs": [],
   "source": [
    "with open('advertise.txt','w',encoding='utf-8') as f:\n",
    "    for i in range(1,4):\n",
    "        url=\"https://www.job001.cn/jobs?keyType=0&keyWord=&jobTypeId=&jobType=%E8%81%8C%E4%BD%8D%E7%B1%BB%E5%9E%8B&industry=&industryname=%E8%A1%8C%E4%B8%9A%E7%B1%BB%E5%9E%8B&workId=&workPlace=&salary=&entType=&experience=&education=&entSize=&benefits=&reftime=&workTypeId=&sortField=&pageNo={}&curItem=\".format(i)\n",
    "        headers={'User-Agent': 'Mozilla/5.0 (Macintosh; Intel Mac OS X 10_15_7) AppleWebKit/537.36 (KHTML, like Gecko) Chrome/100.0.4896.127 Safari/537.36'}\n",
    "        r=requests.get(url=url,headers=headers)\n",
    "        r.encoding = 'utf-8'\n",
    "        html=r.text\n",
    "        doc = etree.HTML(html)\n",
    "        divs=doc.xpath('/html/body/div[17]/div[1]/div[1]/div')\n",
    "\n",
    "        divs.pop(0)\n",
    "#     print(divs)\n",
    "# extract information specifically\n",
    "        for div in divs:\n",
    "            zwmc=div.xpath('./div[1]/div[1]/dl/dt/div[1]/a/text()')[0]\n",
    "            gsmc=div.xpath('./div[1]/div[2]/dl/dt/a/text()')[0]\n",
    "            gsmc=gsmc.strip()\n",
    "            zwyx=div.xpath('./div[1]/div[1]/dl/dd[1]/span[1]/text()')[0]\n",
    "            zwyx=zwyx.strip()\n",
    "            gzdq=div.xpath('./div[1]/div[1]/dl/dt/div[1]/span[1]/span/text()')[0]\n",
    "            sxrq=div.xpath('./div[1]/div[1]/dl/dt/div[1]/span[2]/text()')[0]\n",
    "            f.write(zwmc+'|'+gsmc+'|'+zwyx+'|'+gzdq+'|'+sxrq+'\\n')"
   ]
  },
  {
   "cell_type": "code",
   "execution_count": 4,
   "id": "adf397f0",
   "metadata": {},
   "outputs": [
    {
     "name": "stdout",
     "output_type": "stream",
     "text": [
      "光学设计工程师|美景光学|(面议)\r\n",
      "                        18-25K|中山市/火炬区|11-11 刷新过\r\n",
      "电子工程师|美景光学|18-25K|中山市/火炬区|11-11 刷新过\r\n",
      "招聘专员|智牛电子|4-5K|中山市/港口镇|校招/实习\r\n",
      "C证速运司机|中山小成供应链|6.5-9K|中山市/古镇|11-11 刷新过\r\n",
      "生产计划员|百川汇盈精密实业公司|5-6K|中山市/东区街道|11-11 刷新过\r\n",
      "QC/IPQC|文塑|5.5-6.5K|中山市/小榄镇|11-11 刷新过\r\n",
      "业务经理|宝悦嘉|8-16K|中山市/小榄镇|11-11 刷新过\r\n",
      "外贸业务员|中山市中粮外贸公司|4-8K|中山市/石岐街道|11-11 刷新过\r\n",
      "仓库主管|智牛电子|7-10K|中山市/港口镇|11-11 刷新过\r\n",
      "PE工程师|生活家电制造企业|8-12K|中山市/小榄镇|11-11 刷新过\r\n",
      "IQC检验员|钰小将|5-6K|中山市/横栏镇|11-11 刷新过\r\n",
      "产品结构工程师|生活家电制造企业|8-15K|中山市/小榄镇|11-11 刷新过\r\n",
      "电机绘图员|中山市日亮五金电器有限公司|6-8K|港口镇/港口周边|11-11 刷新过\r\n",
      "助理工程师|尚诚环保|5.5-7K|中山市/三角镇|11-11 刷新过\r\n",
      "电话客服主管|中山市快帮科技公司|4.5-8K|中山市/三乡镇|11-11 刷新过\r\n",
      "高底薪无责任客服|致融中山分公司|4.5-9K|中山市/东区街道|11-11 刷新过\r\n",
      "车间巡检|中山市朗志电器有限公司|4-6K|中山市/东凤镇|11-11 刷新过\r\n",
      "生产组长|万得福公司|6-8K|中山市/三乡镇|11-11 刷新过\r\n",
      "PMC计划主管|优牌线业|7-10K|中山市/小榄镇|11-11 刷新过\r\n",
      "储备干部|尚诚环保|6-6K|中山市/三角镇|11-11 刷新过\r\n",
      "PMC-生产计划/物料管理|文塑|6-9K|中山市/小榄镇|11-11 刷新过\r\n",
      "招聘专员|诺顺五金|4-6K|中山市/阜沙镇|11-11 刷新过\r\n",
      "销售专员|中山市智展商务|3-5K|中山市/沙溪镇|11-11 刷新过\r\n",
      "精益专员|品琪|7-9K|中山市/小榄镇|11-11 刷新过\r\n",
      "业务经理|中山市智展商务|8-10K|中山市/沙溪镇|11-11 刷新过\r\n",
      "车间主管（皮具厂、鞋厂经验）|中山市澳凯汽车用品制造有限公司|8-10K|中山市/小榄镇|11-11 刷新过\r\n",
      "童车硬件研发工程师|宝晟|10-15K|中山市/东升镇|校招/实习\r\n",
      "电子硬件工程师|华美|15-22K|江门市/台山市|11-10 刷新过\r\n",
      "意式研磨咖啡机结构工程师|优端环保|18-25K|佛山市/顺德区|11-10 刷新过\r\n",
      "锥刀/平刀磨豆机结构工程师|优端环保|15-18K|佛山市/顺德区|11-10 刷新过\r\n",
      "产品开发助理工程师|超人电器|6-7K|中山市/三角镇|11-10 刷新过\r\n",
      "结构工程师（镜子）|欣得家居|8-10K|中山市/小榄镇|11-10 刷新过\r\n",
      "品管员|华盛家具集团|4-5.5K|中山市/东升镇|11-11 刷新过\r\n",
      "杂工|佛兰仕|5-6K|中山市/南头镇|11-11 刷新过\r\n",
      "电子工程师|康卓电子科技|5-10K|港口镇/港口周边|11-11 刷新过\r\n",
      "冷柜发泡技工|君诺电器|6-9K|中山市/西区街道|11-11 刷新过\r\n",
      "技术员（偏生产型）|尚诚环保|5-6K|中山市/三角镇|11-11 刷新过\r\n",
      "品管员IPQC|美都化妆品公司|(面议)\r\n",
      "                        5-6.5K|中山市/神湾镇|11-11 刷新过\r\n",
      "超市收银员|海都广场|3-4K|中山市/古镇|11-11 刷新过\r\n",
      "仓库管理员/仓管员|会爱电器|5-7K|中山市/南头镇|11-11 刷新过\r\n",
      "人力行政专员|新特科技|4-6K|中山市/沙溪镇|11-11 刷新过\r\n",
      "会计|威辰洁具|(面议)\r\n",
      "                        4-6K|中山市/火炬区|11-11 刷新过\r\n",
      "普工（长白班）|荣昌|5-7K|中山市/民众镇|11-11 刷新过\r\n",
      "注塑车间部长|威的电器|10-15K|中山市/小榄镇|11-11 刷新过\r\n",
      "人事行政专员|会爱电器|4.5-7K|中山市/南头镇|11-11 刷新过\r\n",
      "保安|会爱电器|4-4.5K|中山市/南头镇|11-11 刷新过\r\n",
      "电机开发工程师|中山市日亮五金电器有限公司|15-25K|中山市/港口镇|11-11 刷新过\r\n",
      "IQC|凯多电器|4.5-7K|中山市/东凤镇|11-11 刷新过\r\n",
      "售后品质专员|中山冠航|6-8K|中山市/南头镇|11-11 刷新过\r\n",
      "财务助理|广东马记|4.5-5K|中山市/民众镇|11-11 刷新过\r\n",
      "壁挂炉技术设计工程师|昊森热能|7-11K|中山市/黄圃镇|11-11 刷新过\r\n",
      "质检员|中山市德和电子材料制品有限公司|6-8K|中山市/火炬区|11-11 刷新过\r\n",
      "业务员|中山市虹宝丽新材料有限公司|2-4K|中山市/坦洲镇|11-11 刷新过\r\n",
      "电子技术员|柏恩照明|7-9K|中山市/古镇|11-11 刷新过\r\n",
      "品管员（SQE）|里奥国际|5-7K|中山市/横栏镇|11-11 刷新过\r\n",
      "IPQC品质员|柏科电源|4.5-6.5K|中山市/南区街道|11-11 刷新过\r\n",
      "销售业务员|中山市精体电子科技有限公司|5.5-8K|中山市/南头镇|11-11 刷新过\r\n",
      "仓管员/塑料仓|广东乐邦集团公司|5.5-7K|中山市/黄圃镇|11-11 刷新过\r\n",
      "高级海关事务专员|中山赛特奥|7-14K|中山市/小榄镇|11-11 刷新过\r\n",
      "销售工程师|中山市志腾电子科技有限公司|6-10K|中山市/古镇|11-11 刷新过\r\n"
     ]
    }
   ],
   "source": [
    "!cat advertise.txt"
   ]
  },
  {
   "cell_type": "code",
   "execution_count": null,
   "id": "a4e2acd1",
   "metadata": {},
   "outputs": [],
   "source": []
  }
 ],
 "metadata": {
  "kernelspec": {
   "display_name": "Python 3 (ipykernel)",
   "language": "python",
   "name": "python3"
  },
  "language_info": {
   "codemirror_mode": {
    "name": "ipython",
    "version": 3
   },
   "file_extension": ".py",
   "mimetype": "text/x-python",
   "name": "python",
   "nbconvert_exporter": "python",
   "pygments_lexer": "ipython3",
   "version": "3.9.7"
  }
 },
 "nbformat": 4,
 "nbformat_minor": 5
}
